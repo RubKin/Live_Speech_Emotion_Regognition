{
 "cells": [
  {
   "cell_type": "code",
   "execution_count": 15,
   "metadata": {},
   "outputs": [],
   "source": [
    "import pandas as pd\n",
    "import numpy as np\n",
    "import matplotlib.pyplot as plt\n",
    "import seaborn as sns\n",
    "import re\n",
    "import os,time,librosa,warnings,glob, pickle\n",
    "\n",
    "from sklearn.preprocessing import MinMaxScaler,OneHotEncoder, StandardScaler, LabelEncoder\n",
    "from sklearn.model_selection import train_test_split\n",
    "from sklearn.model_selection import GridSearchCV\n",
    "\n",
    "from sklearn.neural_network import MLPClassifier\n",
    "from sklearn.metrics import accuracy_score\n",
    "from sklearn.metrics import confusion_matrix,classification_report\n",
    "\n",
    "from keras.layers import Dense,Input,Add,Flatten,Dropout,Activation,AveragePooling1D,Conv1D, MaxPooling1D\n",
    "from tensorflow.keras import regularizers\n",
    "from keras.models import Model,Sequential,load_model, model_from_json\n",
    "from keras.models import Sequential\n",
    "from keras import layers\n",
    "from keras import optimizers\n",
    "from keras import callbacks\n",
    "from keras.optimizers import Adam\n",
    "from keras.callbacks import LearningRateScheduler,EarlyStopping,ReduceLROnPlateau,ModelCheckpoint\n",
    "import tensorflow as tf\n",
    "\n",
    "warnings.filterwarnings(\"ignore\")\n"
   ]
  },
  {
   "cell_type": "code",
   "execution_count": 16,
   "metadata": {},
   "outputs": [
    {
     "data": {
      "text/plain": [
       "((17830, 162, 1),\n",
       " (3566, 162, 1),\n",
       " (892, 162, 1),\n",
       " (17830, 6),\n",
       " (3566, 6),\n",
       " (892, 6))"
      ]
     },
     "execution_count": 16,
     "metadata": {},
     "output_type": "execute_result"
    }
   ],
   "source": [
    "df = pd.read_csv(\"csvs/big_audio_feats_corr2.csv\")\n",
    "X  = df.iloc[:, :-1].values\n",
    "y = df[\"EMOTION\"].values\n",
    "\n",
    "encoder = OneHotEncoder()\n",
    "scaler = StandardScaler()\n",
    "\n",
    "y = encoder.fit_transform(np.array(y).reshape(-1,1)).toarray()\n",
    "X_scaled = scaler.fit_transform(X)\n",
    "X_train, X_toval, y_train, y_toval = train_test_split(X, y, test_size=0.20, random_state=42, shuffle=True)\n",
    "X_val, X_test, y_val, y_test = train_test_split(X_toval, y_toval, test_size=0.20, random_state=42, shuffle=True)\n",
    "\n",
    "X_train = np.expand_dims(X_train, axis=2)\n",
    "X_test = np.expand_dims(X_test, axis=2)\n",
    "X_val = np.expand_dims(X_val, axis=2)\n",
    "\n",
    "X_train.shape, X_val.shape, X_test.shape,  y_train.shape, y_val.shape, y_test.shape"
   ]
  },
  {
   "cell_type": "code",
   "execution_count": 4,
   "metadata": {},
   "outputs": [],
   "source": [
    "# kernel_regularizer = regularizers.l1_l2(l1=1e-5, l2=1e-4)\n",
    "# bias_regularizer = regularizers.l2(1e-4)\n",
    "# activity_reguralizer = regularizers.l2(1e-5)"
   ]
  },
  {
   "cell_type": "code",
   "execution_count": 19,
   "metadata": {},
   "outputs": [
    {
     "name": "stdout",
     "output_type": "stream",
     "text": [
      "Model: \"sequential_5\"\n",
      "_________________________________________________________________\n",
      " Layer (type)                Output Shape              Param #   \n",
      "=================================================================\n",
      " conv1d_8 (Conv1D)           (None, 162, 256)          1536      \n",
      "                                                                 \n",
      " max_pooling1d_8 (MaxPooling  (None, 81, 256)          0         \n",
      " 1D)                                                             \n",
      "                                                                 \n",
      " conv1d_9 (Conv1D)           (None, 81, 256)           327936    \n",
      "                                                                 \n",
      " max_pooling1d_9 (MaxPooling  (None, 41, 256)          0         \n",
      " 1D)                                                             \n",
      "                                                                 \n",
      " conv1d_10 (Conv1D)          (None, 41, 128)           163968    \n",
      "                                                                 \n",
      " max_pooling1d_10 (MaxPoolin  (None, 21, 128)          0         \n",
      " g1D)                                                            \n",
      "                                                                 \n",
      " dropout_4 (Dropout)         (None, 21, 128)           0         \n",
      "                                                                 \n",
      " conv1d_11 (Conv1D)          (None, 21, 64)            41024     \n",
      "                                                                 \n",
      " max_pooling1d_11 (MaxPoolin  (None, 11, 64)           0         \n",
      " g1D)                                                            \n",
      "                                                                 \n",
      " flatten_2 (Flatten)         (None, 704)               0         \n",
      "                                                                 \n",
      " dense_4 (Dense)             (None, 32)                22560     \n",
      "                                                                 \n",
      " dropout_5 (Dropout)         (None, 32)                0         \n",
      "                                                                 \n",
      " dense_5 (Dense)             (None, 6)                 198       \n",
      "                                                                 \n",
      "=================================================================\n",
      "Total params: 557,222\n",
      "Trainable params: 557,222\n",
      "Non-trainable params: 0\n",
      "_________________________________________________________________\n",
      "None\n"
     ]
    }
   ],
   "source": [
    "Model=Sequential()\n",
    "\n",
    "#regs = kernel_regularizer = regularizers.l1_l2(l1=1e-5, l2=1e-4), bias_regularizer = regularizers.l2(1e-4), activity_reguralizer = regularizers.l2(1e-5),\n",
    "Model.add(Conv1D(256, kernel_size=5, strides=1, padding='same', activation='relu', input_shape=(X_train.shape[1:3])))\n",
    "Model.add(MaxPooling1D(pool_size=5, strides = 2, padding = 'same'))\n",
    "\n",
    "Model.add(Conv1D(256, kernel_size=5, strides=1, padding='same', activation='relu'))\n",
    "Model.add(MaxPooling1D(pool_size=5, strides = 2, padding = 'same'))\n",
    "\n",
    "Model.add(Conv1D(128, kernel_size=5, strides=1, padding='same', activation='relu'))\n",
    "Model.add(MaxPooling1D(pool_size=5, strides = 2, padding = 'same'))\n",
    "Model.add(Dropout(0.2))\n",
    "\n",
    "Model.add(Conv1D(64, kernel_size=5, strides=1, padding='same', activation='relu'))\n",
    "Model.add(MaxPooling1D(pool_size=5, strides = 2, padding = 'same'))\n",
    "\n",
    "Model.add(Flatten())\n",
    "Model.add(Dense(units=32, activation='relu'))\n",
    "Model.add(Dropout(0.3))\n",
    "\n",
    "Model.add(Dense(units=6, activation='softmax'))\n",
    "\n",
    "Model.compile(optimizer = 'adam' , loss = 'categorical_crossentropy' , metrics = ['accuracy'])\n",
    "early_stop = tf.keras.callbacks.EarlyStopping(monitor=\"loss\",patience=3,mode=\"min\")\n",
    "print(Model.summary())\n"
   ]
  },
  {
   "cell_type": "code",
   "execution_count": 20,
   "metadata": {},
   "outputs": [
    {
     "name": "stdout",
     "output_type": "stream",
     "text": [
      "Epoch 1/150\n",
      "70/70 [==============================] - ETA: 0s - loss: 3.7323 - categorical_accuracy: 0.2085"
     ]
    },
    {
     "name": "stderr",
     "output_type": "stream",
     "text": [
      "WARNING:absl:Found untraced functions such as _jit_compiled_convolution_op, _jit_compiled_convolution_op, _jit_compiled_convolution_op, _jit_compiled_convolution_op while saving (showing 4 of 4). These functions will not be directly callable after loading.\n"
     ]
    },
    {
     "name": "stdout",
     "output_type": "stream",
     "text": [
      "INFO:tensorflow:Assets written to: models_new/assets\n"
     ]
    },
    {
     "name": "stderr",
     "output_type": "stream",
     "text": [
      "INFO:tensorflow:Assets written to: models_new/assets\n"
     ]
    },
    {
     "name": "stdout",
     "output_type": "stream",
     "text": [
      "70/70 [==============================] - 16s 223ms/step - loss: 3.7323 - categorical_accuracy: 0.2085 - val_loss: 1.7720 - val_categorical_accuracy: 0.2106 - lr: 0.0010\n",
      "Epoch 2/150\n",
      "70/70 [==============================] - ETA: 0s - loss: 1.7890 - categorical_accuracy: 0.2114"
     ]
    },
    {
     "name": "stderr",
     "output_type": "stream",
     "text": [
      "WARNING:absl:Found untraced functions such as _jit_compiled_convolution_op, _jit_compiled_convolution_op, _jit_compiled_convolution_op, _jit_compiled_convolution_op while saving (showing 4 of 4). These functions will not be directly callable after loading.\n"
     ]
    },
    {
     "name": "stdout",
     "output_type": "stream",
     "text": [
      "INFO:tensorflow:Assets written to: models_new/assets\n"
     ]
    },
    {
     "name": "stderr",
     "output_type": "stream",
     "text": [
      "INFO:tensorflow:Assets written to: models_new/assets\n"
     ]
    },
    {
     "name": "stdout",
     "output_type": "stream",
     "text": [
      "70/70 [==============================] - 16s 225ms/step - loss: 1.7890 - categorical_accuracy: 0.2114 - val_loss: 1.7400 - val_categorical_accuracy: 0.2353 - lr: 0.0010\n",
      "Epoch 3/150\n",
      "70/70 [==============================] - 15s 216ms/step - loss: 1.8631 - categorical_accuracy: 0.2107 - val_loss: 1.7435 - val_categorical_accuracy: 0.2072 - lr: 0.0010\n",
      "Epoch 4/150\n",
      "70/70 [==============================] - 15s 217ms/step - loss: 1.8246 - categorical_accuracy: 0.2162 - val_loss: 1.7391 - val_categorical_accuracy: 0.2036 - lr: 0.0010\n",
      "Epoch 5/150\n",
      "70/70 [==============================] - 15s 217ms/step - loss: 1.7395 - categorical_accuracy: 0.2138 - val_loss: 1.7263 - val_categorical_accuracy: 0.2131 - lr: 0.0010\n",
      "Epoch 6/150\n",
      "70/70 [==============================] - ETA: 0s - loss: 1.7439 - categorical_accuracy: 0.2389"
     ]
    },
    {
     "name": "stderr",
     "output_type": "stream",
     "text": [
      "WARNING:absl:Found untraced functions such as _jit_compiled_convolution_op, _jit_compiled_convolution_op, _jit_compiled_convolution_op, _jit_compiled_convolution_op while saving (showing 4 of 4). These functions will not be directly callable after loading.\n"
     ]
    },
    {
     "name": "stdout",
     "output_type": "stream",
     "text": [
      "INFO:tensorflow:Assets written to: models_new/assets\n"
     ]
    },
    {
     "name": "stderr",
     "output_type": "stream",
     "text": [
      "INFO:tensorflow:Assets written to: models_new/assets\n"
     ]
    },
    {
     "name": "stdout",
     "output_type": "stream",
     "text": [
      "70/70 [==============================] - 16s 231ms/step - loss: 1.7439 - categorical_accuracy: 0.2389 - val_loss: 1.6518 - val_categorical_accuracy: 0.3006 - lr: 0.0010\n",
      "Epoch 7/150\n",
      "70/70 [==============================] - 15s 218ms/step - loss: 1.6638 - categorical_accuracy: 0.2749 - val_loss: 1.6392 - val_categorical_accuracy: 0.2891 - lr: 0.0010\n",
      "Epoch 8/150\n",
      "70/70 [==============================] - ETA: 0s - loss: 1.6427 - categorical_accuracy: 0.3034"
     ]
    },
    {
     "name": "stderr",
     "output_type": "stream",
     "text": [
      "WARNING:absl:Found untraced functions such as _jit_compiled_convolution_op, _jit_compiled_convolution_op, _jit_compiled_convolution_op, _jit_compiled_convolution_op while saving (showing 4 of 4). These functions will not be directly callable after loading.\n"
     ]
    },
    {
     "name": "stdout",
     "output_type": "stream",
     "text": [
      "INFO:tensorflow:Assets written to: models_new/assets\n"
     ]
    },
    {
     "name": "stderr",
     "output_type": "stream",
     "text": [
      "INFO:tensorflow:Assets written to: models_new/assets\n"
     ]
    },
    {
     "name": "stdout",
     "output_type": "stream",
     "text": [
      "70/70 [==============================] - 16s 229ms/step - loss: 1.6427 - categorical_accuracy: 0.3034 - val_loss: 1.5524 - val_categorical_accuracy: 0.3864 - lr: 0.0010\n",
      "Epoch 9/150\n",
      "70/70 [==============================] - ETA: 0s - loss: 1.5896 - categorical_accuracy: 0.3379"
     ]
    },
    {
     "name": "stderr",
     "output_type": "stream",
     "text": [
      "WARNING:absl:Found untraced functions such as _jit_compiled_convolution_op, _jit_compiled_convolution_op, _jit_compiled_convolution_op, _jit_compiled_convolution_op while saving (showing 4 of 4). These functions will not be directly callable after loading.\n"
     ]
    },
    {
     "name": "stdout",
     "output_type": "stream",
     "text": [
      "INFO:tensorflow:Assets written to: models_new/assets\n"
     ]
    },
    {
     "name": "stderr",
     "output_type": "stream",
     "text": [
      "INFO:tensorflow:Assets written to: models_new/assets\n"
     ]
    },
    {
     "name": "stdout",
     "output_type": "stream",
     "text": [
      "70/70 [==============================] - 16s 226ms/step - loss: 1.5896 - categorical_accuracy: 0.3379 - val_loss: 1.5089 - val_categorical_accuracy: 0.3873 - lr: 0.0010\n",
      "Epoch 10/150\n",
      "70/70 [==============================] - ETA: 0s - loss: 1.5414 - categorical_accuracy: 0.3624"
     ]
    },
    {
     "name": "stderr",
     "output_type": "stream",
     "text": [
      "WARNING:absl:Found untraced functions such as _jit_compiled_convolution_op, _jit_compiled_convolution_op, _jit_compiled_convolution_op, _jit_compiled_convolution_op while saving (showing 4 of 4). These functions will not be directly callable after loading.\n"
     ]
    },
    {
     "name": "stdout",
     "output_type": "stream",
     "text": [
      "INFO:tensorflow:Assets written to: models_new/assets\n"
     ]
    },
    {
     "name": "stderr",
     "output_type": "stream",
     "text": [
      "INFO:tensorflow:Assets written to: models_new/assets\n"
     ]
    },
    {
     "name": "stdout",
     "output_type": "stream",
     "text": [
      "70/70 [==============================] - 16s 226ms/step - loss: 1.5414 - categorical_accuracy: 0.3624 - val_loss: 1.4752 - val_categorical_accuracy: 0.4148 - lr: 0.0010\n",
      "Epoch 11/150\n",
      "70/70 [==============================] - ETA: 0s - loss: 1.4972 - categorical_accuracy: 0.3857"
     ]
    },
    {
     "name": "stderr",
     "output_type": "stream",
     "text": [
      "WARNING:absl:Found untraced functions such as _jit_compiled_convolution_op, _jit_compiled_convolution_op, _jit_compiled_convolution_op, _jit_compiled_convolution_op while saving (showing 4 of 4). These functions will not be directly callable after loading.\n"
     ]
    },
    {
     "name": "stdout",
     "output_type": "stream",
     "text": [
      "INFO:tensorflow:Assets written to: models_new/assets\n"
     ]
    },
    {
     "name": "stderr",
     "output_type": "stream",
     "text": [
      "INFO:tensorflow:Assets written to: models_new/assets\n"
     ]
    },
    {
     "name": "stdout",
     "output_type": "stream",
     "text": [
      "70/70 [==============================] - 16s 222ms/step - loss: 1.4972 - categorical_accuracy: 0.3857 - val_loss: 1.3510 - val_categorical_accuracy: 0.4745 - lr: 0.0010\n",
      "Epoch 12/150\n",
      "70/70 [==============================] - ETA: 0s - loss: 1.4091 - categorical_accuracy: 0.4283"
     ]
    },
    {
     "name": "stderr",
     "output_type": "stream",
     "text": [
      "WARNING:absl:Found untraced functions such as _jit_compiled_convolution_op, _jit_compiled_convolution_op, _jit_compiled_convolution_op, _jit_compiled_convolution_op while saving (showing 4 of 4). These functions will not be directly callable after loading.\n"
     ]
    },
    {
     "name": "stdout",
     "output_type": "stream",
     "text": [
      "INFO:tensorflow:Assets written to: models_new/assets\n"
     ]
    },
    {
     "name": "stderr",
     "output_type": "stream",
     "text": [
      "INFO:tensorflow:Assets written to: models_new/assets\n"
     ]
    },
    {
     "name": "stdout",
     "output_type": "stream",
     "text": [
      "70/70 [==============================] - 15s 219ms/step - loss: 1.4091 - categorical_accuracy: 0.4283 - val_loss: 1.2815 - val_categorical_accuracy: 0.4961 - lr: 0.0010\n",
      "Epoch 13/150\n",
      "70/70 [==============================] - ETA: 0s - loss: 1.3326 - categorical_accuracy: 0.4450"
     ]
    },
    {
     "name": "stderr",
     "output_type": "stream",
     "text": [
      "WARNING:absl:Found untraced functions such as _jit_compiled_convolution_op, _jit_compiled_convolution_op, _jit_compiled_convolution_op, _jit_compiled_convolution_op while saving (showing 4 of 4). These functions will not be directly callable after loading.\n"
     ]
    },
    {
     "name": "stdout",
     "output_type": "stream",
     "text": [
      "INFO:tensorflow:Assets written to: models_new/assets\n"
     ]
    },
    {
     "name": "stderr",
     "output_type": "stream",
     "text": [
      "INFO:tensorflow:Assets written to: models_new/assets\n"
     ]
    },
    {
     "name": "stdout",
     "output_type": "stream",
     "text": [
      "70/70 [==============================] - 15s 218ms/step - loss: 1.3326 - categorical_accuracy: 0.4450 - val_loss: 1.2087 - val_categorical_accuracy: 0.5121 - lr: 0.0010\n",
      "Epoch 14/150\n",
      "70/70 [==============================] - ETA: 0s - loss: 1.2750 - categorical_accuracy: 0.4610"
     ]
    },
    {
     "name": "stderr",
     "output_type": "stream",
     "text": [
      "WARNING:absl:Found untraced functions such as _jit_compiled_convolution_op, _jit_compiled_convolution_op, _jit_compiled_convolution_op, _jit_compiled_convolution_op while saving (showing 4 of 4). These functions will not be directly callable after loading.\n"
     ]
    },
    {
     "name": "stdout",
     "output_type": "stream",
     "text": [
      "INFO:tensorflow:Assets written to: models_new/assets\n"
     ]
    },
    {
     "name": "stderr",
     "output_type": "stream",
     "text": [
      "INFO:tensorflow:Assets written to: models_new/assets\n"
     ]
    },
    {
     "name": "stdout",
     "output_type": "stream",
     "text": [
      "70/70 [==============================] - 16s 228ms/step - loss: 1.2750 - categorical_accuracy: 0.4610 - val_loss: 1.1022 - val_categorical_accuracy: 0.5446 - lr: 0.0010\n",
      "Epoch 15/150\n",
      "70/70 [==============================] - ETA: 0s - loss: 1.1943 - categorical_accuracy: 0.4930"
     ]
    },
    {
     "name": "stderr",
     "output_type": "stream",
     "text": [
      "WARNING:absl:Found untraced functions such as _jit_compiled_convolution_op, _jit_compiled_convolution_op, _jit_compiled_convolution_op, _jit_compiled_convolution_op while saving (showing 4 of 4). These functions will not be directly callable after loading.\n"
     ]
    },
    {
     "name": "stdout",
     "output_type": "stream",
     "text": [
      "INFO:tensorflow:Assets written to: models_new/assets\n"
     ]
    },
    {
     "name": "stderr",
     "output_type": "stream",
     "text": [
      "INFO:tensorflow:Assets written to: models_new/assets\n"
     ]
    },
    {
     "name": "stdout",
     "output_type": "stream",
     "text": [
      "70/70 [==============================] - 15s 217ms/step - loss: 1.1943 - categorical_accuracy: 0.4930 - val_loss: 0.9429 - val_categorical_accuracy: 0.5925 - lr: 0.0010\n",
      "Epoch 16/150\n",
      "70/70 [==============================] - ETA: 0s - loss: 1.0486 - categorical_accuracy: 0.5634"
     ]
    },
    {
     "name": "stderr",
     "output_type": "stream",
     "text": [
      "WARNING:absl:Found untraced functions such as _jit_compiled_convolution_op, _jit_compiled_convolution_op, _jit_compiled_convolution_op, _jit_compiled_convolution_op while saving (showing 4 of 4). These functions will not be directly callable after loading.\n"
     ]
    },
    {
     "name": "stdout",
     "output_type": "stream",
     "text": [
      "INFO:tensorflow:Assets written to: models_new/assets\n"
     ]
    },
    {
     "name": "stderr",
     "output_type": "stream",
     "text": [
      "INFO:tensorflow:Assets written to: models_new/assets\n"
     ]
    },
    {
     "name": "stdout",
     "output_type": "stream",
     "text": [
      "70/70 [==============================] - 15s 214ms/step - loss: 1.0486 - categorical_accuracy: 0.5634 - val_loss: 0.8509 - val_categorical_accuracy: 0.6671 - lr: 0.0010\n",
      "Epoch 17/150\n",
      "70/70 [==============================] - 15s 213ms/step - loss: 0.9678 - categorical_accuracy: 0.6005 - val_loss: 0.8715 - val_categorical_accuracy: 0.6534 - lr: 0.0010\n",
      "Epoch 18/150\n",
      "70/70 [==============================] - 15s 216ms/step - loss: 0.9269 - categorical_accuracy: 0.6174 - val_loss: 0.8099 - val_categorical_accuracy: 0.6652 - lr: 0.0010\n",
      "Epoch 19/150\n",
      "70/70 [==============================] - ETA: 0s - loss: 0.8807 - categorical_accuracy: 0.6352"
     ]
    },
    {
     "name": "stderr",
     "output_type": "stream",
     "text": [
      "WARNING:absl:Found untraced functions such as _jit_compiled_convolution_op, _jit_compiled_convolution_op, _jit_compiled_convolution_op, _jit_compiled_convolution_op while saving (showing 4 of 4). These functions will not be directly callable after loading.\n"
     ]
    },
    {
     "name": "stdout",
     "output_type": "stream",
     "text": [
      "INFO:tensorflow:Assets written to: models_new/assets\n"
     ]
    },
    {
     "name": "stderr",
     "output_type": "stream",
     "text": [
      "INFO:tensorflow:Assets written to: models_new/assets\n"
     ]
    },
    {
     "name": "stdout",
     "output_type": "stream",
     "text": [
      "70/70 [==============================] - 16s 226ms/step - loss: 0.8807 - categorical_accuracy: 0.6352 - val_loss: 0.7366 - val_categorical_accuracy: 0.6927 - lr: 0.0010\n",
      "Epoch 20/150\n",
      "70/70 [==============================] - ETA: 0s - loss: 0.8297 - categorical_accuracy: 0.6566"
     ]
    },
    {
     "name": "stderr",
     "output_type": "stream",
     "text": [
      "WARNING:absl:Found untraced functions such as _jit_compiled_convolution_op, _jit_compiled_convolution_op, _jit_compiled_convolution_op, _jit_compiled_convolution_op while saving (showing 4 of 4). These functions will not be directly callable after loading.\n"
     ]
    },
    {
     "name": "stdout",
     "output_type": "stream",
     "text": [
      "INFO:tensorflow:Assets written to: models_new/assets\n"
     ]
    },
    {
     "name": "stderr",
     "output_type": "stream",
     "text": [
      "INFO:tensorflow:Assets written to: models_new/assets\n"
     ]
    },
    {
     "name": "stdout",
     "output_type": "stream",
     "text": [
      "70/70 [==============================] - 16s 225ms/step - loss: 0.8297 - categorical_accuracy: 0.6566 - val_loss: 0.7237 - val_categorical_accuracy: 0.7008 - lr: 0.0010\n",
      "Epoch 21/150\n",
      "70/70 [==============================] - 15s 208ms/step - loss: 0.7816 - categorical_accuracy: 0.6788 - val_loss: 0.7714 - val_categorical_accuracy: 0.6960 - lr: 0.0010\n",
      "Epoch 22/150\n",
      "70/70 [==============================] - 15s 212ms/step - loss: 0.7486 - categorical_accuracy: 0.6912 - val_loss: 0.7134 - val_categorical_accuracy: 0.6988 - lr: 0.0010\n",
      "Epoch 23/150\n",
      "70/70 [==============================] - ETA: 0s - loss: 0.7281 - categorical_accuracy: 0.6936"
     ]
    },
    {
     "name": "stderr",
     "output_type": "stream",
     "text": [
      "WARNING:absl:Found untraced functions such as _jit_compiled_convolution_op, _jit_compiled_convolution_op, _jit_compiled_convolution_op, _jit_compiled_convolution_op while saving (showing 4 of 4). These functions will not be directly callable after loading.\n"
     ]
    },
    {
     "name": "stdout",
     "output_type": "stream",
     "text": [
      "INFO:tensorflow:Assets written to: models_new/assets\n"
     ]
    },
    {
     "name": "stderr",
     "output_type": "stream",
     "text": [
      "INFO:tensorflow:Assets written to: models_new/assets\n"
     ]
    },
    {
     "name": "stdout",
     "output_type": "stream",
     "text": [
      "70/70 [==============================] - 16s 223ms/step - loss: 0.7281 - categorical_accuracy: 0.6936 - val_loss: 0.6787 - val_categorical_accuracy: 0.7199 - lr: 0.0010\n",
      "Epoch 24/150\n",
      "70/70 [==============================] - 15s 208ms/step - loss: 0.7007 - categorical_accuracy: 0.7053 - val_loss: 0.6650 - val_categorical_accuracy: 0.7187 - lr: 0.0010\n",
      "Epoch 25/150\n",
      "70/70 [==============================] - 14s 205ms/step - loss: 0.6901 - categorical_accuracy: 0.7109 - val_loss: 0.7001 - val_categorical_accuracy: 0.7168 - lr: 0.0010\n",
      "Epoch 26/150\n",
      "70/70 [==============================] - ETA: 0s - loss: 0.6839 - categorical_accuracy: 0.7139"
     ]
    },
    {
     "name": "stderr",
     "output_type": "stream",
     "text": [
      "WARNING:absl:Found untraced functions such as _jit_compiled_convolution_op, _jit_compiled_convolution_op, _jit_compiled_convolution_op, _jit_compiled_convolution_op while saving (showing 4 of 4). These functions will not be directly callable after loading.\n"
     ]
    },
    {
     "name": "stdout",
     "output_type": "stream",
     "text": [
      "INFO:tensorflow:Assets written to: models_new/assets\n"
     ]
    },
    {
     "name": "stderr",
     "output_type": "stream",
     "text": [
      "INFO:tensorflow:Assets written to: models_new/assets\n"
     ]
    },
    {
     "name": "stdout",
     "output_type": "stream",
     "text": [
      "70/70 [==============================] - 16s 223ms/step - loss: 0.6839 - categorical_accuracy: 0.7139 - val_loss: 0.6509 - val_categorical_accuracy: 0.7260 - lr: 0.0010\n",
      "Epoch 27/150\n",
      "70/70 [==============================] - ETA: 0s - loss: 0.6678 - categorical_accuracy: 0.7220"
     ]
    },
    {
     "name": "stderr",
     "output_type": "stream",
     "text": [
      "WARNING:absl:Found untraced functions such as _jit_compiled_convolution_op, _jit_compiled_convolution_op, _jit_compiled_convolution_op, _jit_compiled_convolution_op while saving (showing 4 of 4). These functions will not be directly callable after loading.\n"
     ]
    },
    {
     "name": "stdout",
     "output_type": "stream",
     "text": [
      "INFO:tensorflow:Assets written to: models_new/assets\n"
     ]
    },
    {
     "name": "stderr",
     "output_type": "stream",
     "text": [
      "INFO:tensorflow:Assets written to: models_new/assets\n"
     ]
    },
    {
     "name": "stdout",
     "output_type": "stream",
     "text": [
      "70/70 [==============================] - 15s 221ms/step - loss: 0.6678 - categorical_accuracy: 0.7220 - val_loss: 0.6382 - val_categorical_accuracy: 0.7308 - lr: 0.0010\n",
      "Epoch 28/150\n",
      "70/70 [==============================] - ETA: 0s - loss: 0.6487 - categorical_accuracy: 0.7260"
     ]
    },
    {
     "name": "stderr",
     "output_type": "stream",
     "text": [
      "WARNING:absl:Found untraced functions such as _jit_compiled_convolution_op, _jit_compiled_convolution_op, _jit_compiled_convolution_op, _jit_compiled_convolution_op while saving (showing 4 of 4). These functions will not be directly callable after loading.\n"
     ]
    },
    {
     "name": "stdout",
     "output_type": "stream",
     "text": [
      "INFO:tensorflow:Assets written to: models_new/assets\n"
     ]
    },
    {
     "name": "stderr",
     "output_type": "stream",
     "text": [
      "INFO:tensorflow:Assets written to: models_new/assets\n"
     ]
    },
    {
     "name": "stdout",
     "output_type": "stream",
     "text": [
      "70/70 [==============================] - 16s 231ms/step - loss: 0.6487 - categorical_accuracy: 0.7260 - val_loss: 0.5986 - val_categorical_accuracy: 0.7487 - lr: 0.0010\n",
      "Epoch 29/150\n",
      "70/70 [==============================] - 16s 222ms/step - loss: 0.6559 - categorical_accuracy: 0.7229 - val_loss: 0.6636 - val_categorical_accuracy: 0.7196 - lr: 0.0010\n",
      "Epoch 30/150\n",
      "70/70 [==============================] - 14s 206ms/step - loss: 0.6485 - categorical_accuracy: 0.7282 - val_loss: 0.6082 - val_categorical_accuracy: 0.7395 - lr: 0.0010\n",
      "Epoch 31/150\n",
      "70/70 [==============================] - 15s 214ms/step - loss: 0.6361 - categorical_accuracy: 0.7315 - val_loss: 0.6423 - val_categorical_accuracy: 0.7386 - lr: 0.0010\n",
      "Epoch 32/150\n",
      "70/70 [==============================] - 14s 206ms/step - loss: 0.6299 - categorical_accuracy: 0.7345 - val_loss: 0.6693 - val_categorical_accuracy: 0.7243 - lr: 0.0010\n",
      "Epoch 33/150\n",
      "70/70 [==============================] - 14s 203ms/step - loss: 0.6157 - categorical_accuracy: 0.7385 - val_loss: 0.6237 - val_categorical_accuracy: 0.7361 - lr: 0.0010\n",
      "Epoch 34/150\n",
      "70/70 [==============================] - 16s 222ms/step - loss: 0.6190 - categorical_accuracy: 0.7425 - val_loss: 0.6867 - val_categorical_accuracy: 0.7218 - lr: 0.0010\n",
      "Epoch 35/150\n",
      "70/70 [==============================] - ETA: 0s - loss: 0.6147 - categorical_accuracy: 0.7448"
     ]
    },
    {
     "name": "stderr",
     "output_type": "stream",
     "text": [
      "WARNING:absl:Found untraced functions such as _jit_compiled_convolution_op, _jit_compiled_convolution_op, _jit_compiled_convolution_op, _jit_compiled_convolution_op while saving (showing 4 of 4). These functions will not be directly callable after loading.\n"
     ]
    },
    {
     "name": "stdout",
     "output_type": "stream",
     "text": [
      "INFO:tensorflow:Assets written to: models_new/assets\n"
     ]
    },
    {
     "name": "stderr",
     "output_type": "stream",
     "text": [
      "INFO:tensorflow:Assets written to: models_new/assets\n"
     ]
    },
    {
     "name": "stdout",
     "output_type": "stream",
     "text": [
      "70/70 [==============================] - 16s 231ms/step - loss: 0.6147 - categorical_accuracy: 0.7448 - val_loss: 0.5874 - val_categorical_accuracy: 0.7529 - lr: 0.0010\n",
      "Epoch 36/150\n",
      "70/70 [==============================] - 15s 217ms/step - loss: 0.5971 - categorical_accuracy: 0.7497 - val_loss: 0.6052 - val_categorical_accuracy: 0.7490 - lr: 0.0010\n",
      "Epoch 37/150\n",
      "70/70 [==============================] - 14s 202ms/step - loss: 0.5895 - categorical_accuracy: 0.7497 - val_loss: 0.6648 - val_categorical_accuracy: 0.7232 - lr: 0.0010\n",
      "Epoch 38/150\n",
      "70/70 [==============================] - 15s 221ms/step - loss: 0.5984 - categorical_accuracy: 0.7545 - val_loss: 0.6188 - val_categorical_accuracy: 0.7353 - lr: 0.0010\n",
      "Epoch 39/150\n",
      "70/70 [==============================] - 15s 214ms/step - loss: 0.5897 - categorical_accuracy: 0.7493 - val_loss: 0.6439 - val_categorical_accuracy: 0.7311 - lr: 0.0010\n",
      "Epoch 40/150\n",
      "70/70 [==============================] - 15s 216ms/step - loss: 0.5819 - categorical_accuracy: 0.7554 - val_loss: 0.6038 - val_categorical_accuracy: 0.7496 - lr: 0.0010\n",
      "Epoch 41/150\n",
      "70/70 [==============================] - ETA: 0s - loss: 0.5679 - categorical_accuracy: 0.7597"
     ]
    },
    {
     "name": "stderr",
     "output_type": "stream",
     "text": [
      "WARNING:absl:Found untraced functions such as _jit_compiled_convolution_op, _jit_compiled_convolution_op, _jit_compiled_convolution_op, _jit_compiled_convolution_op while saving (showing 4 of 4). These functions will not be directly callable after loading.\n"
     ]
    },
    {
     "name": "stdout",
     "output_type": "stream",
     "text": [
      "INFO:tensorflow:Assets written to: models_new/assets\n"
     ]
    },
    {
     "name": "stderr",
     "output_type": "stream",
     "text": [
      "INFO:tensorflow:Assets written to: models_new/assets\n"
     ]
    },
    {
     "name": "stdout",
     "output_type": "stream",
     "text": [
      "70/70 [==============================] - 16s 230ms/step - loss: 0.5679 - categorical_accuracy: 0.7597 - val_loss: 0.5822 - val_categorical_accuracy: 0.7566 - lr: 0.0010\n",
      "Epoch 42/150\n",
      "70/70 [==============================] - 14s 205ms/step - loss: 0.5620 - categorical_accuracy: 0.7616 - val_loss: 0.5972 - val_categorical_accuracy: 0.7384 - lr: 0.0010\n",
      "Epoch 43/150\n",
      "70/70 [==============================] - 15s 209ms/step - loss: 0.5667 - categorical_accuracy: 0.7611 - val_loss: 0.5871 - val_categorical_accuracy: 0.7543 - lr: 0.0010\n",
      "Epoch 44/150\n",
      "70/70 [==============================] - 15s 210ms/step - loss: 0.5652 - categorical_accuracy: 0.7671 - val_loss: 0.6077 - val_categorical_accuracy: 0.7457 - lr: 0.0010\n",
      "Epoch 45/150\n",
      "70/70 [==============================] - ETA: 0s - loss: 0.5556 - categorical_accuracy: 0.7673"
     ]
    },
    {
     "name": "stderr",
     "output_type": "stream",
     "text": [
      "WARNING:absl:Found untraced functions such as _jit_compiled_convolution_op, _jit_compiled_convolution_op, _jit_compiled_convolution_op, _jit_compiled_convolution_op while saving (showing 4 of 4). These functions will not be directly callable after loading.\n"
     ]
    },
    {
     "name": "stdout",
     "output_type": "stream",
     "text": [
      "INFO:tensorflow:Assets written to: models_new/assets\n"
     ]
    },
    {
     "name": "stderr",
     "output_type": "stream",
     "text": [
      "INFO:tensorflow:Assets written to: models_new/assets\n"
     ]
    },
    {
     "name": "stdout",
     "output_type": "stream",
     "text": [
      "70/70 [==============================] - 16s 223ms/step - loss: 0.5556 - categorical_accuracy: 0.7673 - val_loss: 0.5789 - val_categorical_accuracy: 0.7574 - lr: 0.0010\n",
      "Epoch 46/150\n",
      "70/70 [==============================] - 15s 210ms/step - loss: 0.5516 - categorical_accuracy: 0.7689 - val_loss: 0.7123 - val_categorical_accuracy: 0.7005 - lr: 0.0010\n",
      "Epoch 47/150\n",
      "70/70 [==============================] - 14s 206ms/step - loss: 0.5529 - categorical_accuracy: 0.7688 - val_loss: 0.5848 - val_categorical_accuracy: 0.7496 - lr: 0.0010\n",
      "Epoch 48/150\n",
      "70/70 [==============================] - 15s 215ms/step - loss: 0.5402 - categorical_accuracy: 0.7750 - val_loss: 0.6062 - val_categorical_accuracy: 0.7557 - lr: 0.0010\n",
      "Epoch 49/150\n",
      "70/70 [==============================] - ETA: 0s - loss: 0.5318 - categorical_accuracy: 0.7790"
     ]
    },
    {
     "name": "stderr",
     "output_type": "stream",
     "text": [
      "WARNING:absl:Found untraced functions such as _jit_compiled_convolution_op, _jit_compiled_convolution_op, _jit_compiled_convolution_op, _jit_compiled_convolution_op while saving (showing 4 of 4). These functions will not be directly callable after loading.\n"
     ]
    },
    {
     "name": "stdout",
     "output_type": "stream",
     "text": [
      "INFO:tensorflow:Assets written to: models_new/assets\n"
     ]
    },
    {
     "name": "stderr",
     "output_type": "stream",
     "text": [
      "INFO:tensorflow:Assets written to: models_new/assets\n"
     ]
    },
    {
     "name": "stdout",
     "output_type": "stream",
     "text": [
      "70/70 [==============================] - 16s 228ms/step - loss: 0.5318 - categorical_accuracy: 0.7790 - val_loss: 0.5537 - val_categorical_accuracy: 0.7701 - lr: 0.0010\n",
      "Epoch 50/150\n",
      "70/70 [==============================] - 15s 213ms/step - loss: 0.5310 - categorical_accuracy: 0.7824 - val_loss: 0.6152 - val_categorical_accuracy: 0.7378 - lr: 0.0010\n",
      "Epoch 51/150\n",
      "70/70 [==============================] - 15s 214ms/step - loss: 0.5391 - categorical_accuracy: 0.7789 - val_loss: 0.6339 - val_categorical_accuracy: 0.7142 - lr: 0.0010\n",
      "Epoch 52/150\n",
      "70/70 [==============================] - 15s 220ms/step - loss: 0.5188 - categorical_accuracy: 0.7860 - val_loss: 0.6582 - val_categorical_accuracy: 0.7493 - lr: 0.0010\n",
      "Epoch 53/150\n",
      "70/70 [==============================] - 15s 216ms/step - loss: 0.5213 - categorical_accuracy: 0.7823 - val_loss: 0.5758 - val_categorical_accuracy: 0.7577 - lr: 0.0010\n",
      "Epoch 54/150\n",
      "70/70 [==============================] - 15s 210ms/step - loss: 0.5137 - categorical_accuracy: 0.7892 - val_loss: 0.6066 - val_categorical_accuracy: 0.7473 - lr: 0.0010\n",
      "Epoch 55/150\n",
      "70/70 [==============================] - 14s 204ms/step - loss: 0.5194 - categorical_accuracy: 0.7858 - val_loss: 0.5857 - val_categorical_accuracy: 0.7563 - lr: 0.0010\n",
      "Epoch 56/150\n",
      "70/70 [==============================] - 14s 201ms/step - loss: 0.5115 - categorical_accuracy: 0.7849 - val_loss: 0.6004 - val_categorical_accuracy: 0.7588 - lr: 0.0010\n",
      "Epoch 57/150\n",
      "70/70 [==============================] - 15s 213ms/step - loss: 0.5144 - categorical_accuracy: 0.7913 - val_loss: 0.5714 - val_categorical_accuracy: 0.7658 - lr: 0.0010\n",
      "Epoch 58/150\n",
      "70/70 [==============================] - 15s 213ms/step - loss: 0.5074 - categorical_accuracy: 0.7895 - val_loss: 0.6014 - val_categorical_accuracy: 0.7572 - lr: 0.0010\n",
      "Epoch 59/150\n",
      "70/70 [==============================] - 15s 218ms/step - loss: 0.4940 - categorical_accuracy: 0.7962 - val_loss: 0.6307 - val_categorical_accuracy: 0.7658 - lr: 0.0010\n",
      "Epoch 60/150\n",
      "70/70 [==============================] - 15s 217ms/step - loss: 0.4999 - categorical_accuracy: 0.7955 - val_loss: 0.5545 - val_categorical_accuracy: 0.7667 - lr: 0.0010\n",
      "Epoch 61/150\n",
      "70/70 [==============================] - 15s 213ms/step - loss: 0.5144 - categorical_accuracy: 0.7924 - val_loss: 0.5690 - val_categorical_accuracy: 0.7695 - lr: 0.0010\n",
      "Epoch 62/150\n",
      "70/70 [==============================] - ETA: 0s - loss: 0.5160 - categorical_accuracy: 0.7939"
     ]
    },
    {
     "name": "stderr",
     "output_type": "stream",
     "text": [
      "WARNING:absl:Found untraced functions such as _jit_compiled_convolution_op, _jit_compiled_convolution_op, _jit_compiled_convolution_op, _jit_compiled_convolution_op while saving (showing 4 of 4). These functions will not be directly callable after loading.\n"
     ]
    },
    {
     "name": "stdout",
     "output_type": "stream",
     "text": [
      "INFO:tensorflow:Assets written to: models_new/assets\n"
     ]
    },
    {
     "name": "stderr",
     "output_type": "stream",
     "text": [
      "INFO:tensorflow:Assets written to: models_new/assets\n"
     ]
    },
    {
     "name": "stdout",
     "output_type": "stream",
     "text": [
      "70/70 [==============================] - 16s 221ms/step - loss: 0.5160 - categorical_accuracy: 0.7939 - val_loss: 0.5867 - val_categorical_accuracy: 0.7757 - lr: 0.0010\n",
      "Epoch 63/150\n",
      "70/70 [==============================] - 15s 210ms/step - loss: 0.4894 - categorical_accuracy: 0.7985 - val_loss: 0.5793 - val_categorical_accuracy: 0.7560 - lr: 0.0010\n",
      "Epoch 64/150\n",
      "70/70 [==============================] - 15s 208ms/step - loss: 0.4869 - categorical_accuracy: 0.8035 - val_loss: 0.5649 - val_categorical_accuracy: 0.7754 - lr: 0.0010\n",
      "Epoch 65/150\n",
      "70/70 [==============================] - 15s 213ms/step - loss: 0.4871 - categorical_accuracy: 0.7995 - val_loss: 0.6450 - val_categorical_accuracy: 0.7600 - lr: 0.0010\n",
      "Epoch 66/150\n",
      "70/70 [==============================] - ETA: 0s - loss: 0.4999 - categorical_accuracy: 0.8011"
     ]
    },
    {
     "name": "stderr",
     "output_type": "stream",
     "text": [
      "WARNING:absl:Found untraced functions such as _jit_compiled_convolution_op, _jit_compiled_convolution_op, _jit_compiled_convolution_op, _jit_compiled_convolution_op while saving (showing 4 of 4). These functions will not be directly callable after loading.\n"
     ]
    },
    {
     "name": "stdout",
     "output_type": "stream",
     "text": [
      "INFO:tensorflow:Assets written to: models_new/assets\n"
     ]
    },
    {
     "name": "stderr",
     "output_type": "stream",
     "text": [
      "INFO:tensorflow:Assets written to: models_new/assets\n"
     ]
    },
    {
     "name": "stdout",
     "output_type": "stream",
     "text": [
      "70/70 [==============================] - 16s 223ms/step - loss: 0.4999 - categorical_accuracy: 0.8011 - val_loss: 0.5544 - val_categorical_accuracy: 0.7771 - lr: 0.0010\n",
      "Epoch 67/150\n",
      "70/70 [==============================] - 15s 218ms/step - loss: 0.4703 - categorical_accuracy: 0.8048 - val_loss: 0.5605 - val_categorical_accuracy: 0.7639 - lr: 0.0010\n",
      "Epoch 68/150\n",
      "70/70 [==============================] - ETA: 0s - loss: 0.4879 - categorical_accuracy: 0.8039"
     ]
    },
    {
     "name": "stderr",
     "output_type": "stream",
     "text": [
      "WARNING:absl:Found untraced functions such as _jit_compiled_convolution_op, _jit_compiled_convolution_op, _jit_compiled_convolution_op, _jit_compiled_convolution_op while saving (showing 4 of 4). These functions will not be directly callable after loading.\n"
     ]
    },
    {
     "name": "stdout",
     "output_type": "stream",
     "text": [
      "INFO:tensorflow:Assets written to: models_new/assets\n"
     ]
    },
    {
     "name": "stderr",
     "output_type": "stream",
     "text": [
      "INFO:tensorflow:Assets written to: models_new/assets\n"
     ]
    },
    {
     "name": "stdout",
     "output_type": "stream",
     "text": [
      "70/70 [==============================] - 16s 230ms/step - loss: 0.4879 - categorical_accuracy: 0.8039 - val_loss: 0.5594 - val_categorical_accuracy: 0.7776 - lr: 0.0010\n",
      "Epoch 69/150\n",
      "70/70 [==============================] - 15s 212ms/step - loss: 1.7046 - categorical_accuracy: 0.7948 - val_loss: 0.5976 - val_categorical_accuracy: 0.7336 - lr: 0.0010\n",
      "Epoch 70/150\n",
      "70/70 [==============================] - 15s 213ms/step - loss: 0.4630 - categorical_accuracy: 0.8045 - val_loss: 0.6674 - val_categorical_accuracy: 0.7644 - lr: 0.0010\n",
      "Epoch 71/150\n",
      "70/70 [==============================] - 15s 218ms/step - loss: 1.0394 - categorical_accuracy: 0.7860 - val_loss: 0.5811 - val_categorical_accuracy: 0.7636 - lr: 0.0010\n",
      "Epoch 72/150\n",
      "70/70 [==============================] - 15s 217ms/step - loss: 0.4669 - categorical_accuracy: 0.8105 - val_loss: 0.8198 - val_categorical_accuracy: 0.7361 - lr: 0.0010\n",
      "Epoch 73/150\n",
      "70/70 [==============================] - 15s 210ms/step - loss: 0.4769 - categorical_accuracy: 0.8060 - val_loss: 0.6350 - val_categorical_accuracy: 0.7591 - lr: 0.0010\n",
      "Epoch 74/150\n",
      "70/70 [==============================] - 14s 206ms/step - loss: 0.4590 - categorical_accuracy: 0.8130 - val_loss: 0.6036 - val_categorical_accuracy: 0.7572 - lr: 0.0010\n",
      "Epoch 75/150\n",
      "70/70 [==============================] - 15s 210ms/step - loss: 0.5152 - categorical_accuracy: 0.8043 - val_loss: 0.5744 - val_categorical_accuracy: 0.7684 - lr: 0.0010\n",
      "Epoch 76/150\n",
      "70/70 [==============================] - 15s 214ms/step - loss: 0.4521 - categorical_accuracy: 0.8164 - val_loss: 0.7187 - val_categorical_accuracy: 0.7454 - lr: 0.0010\n",
      "Epoch 77/150\n",
      "70/70 [==============================] - 15s 208ms/step - loss: 0.4735 - categorical_accuracy: 0.8112 - val_loss: 0.5906 - val_categorical_accuracy: 0.7701 - lr: 0.0010\n",
      "Epoch 78/150\n",
      "70/70 [==============================] - 15s 213ms/step - loss: 0.4438 - categorical_accuracy: 0.8167 - val_loss: 0.6412 - val_categorical_accuracy: 0.7597 - lr: 0.0010\n",
      "Epoch 79/150\n",
      "70/70 [==============================] - 15s 209ms/step - loss: 0.4495 - categorical_accuracy: 0.8158 - val_loss: 0.7268 - val_categorical_accuracy: 0.7372 - lr: 0.0010\n",
      "Epoch 80/150\n",
      "70/70 [==============================] - 15s 216ms/step - loss: 0.4451 - categorical_accuracy: 0.8177 - val_loss: 0.6064 - val_categorical_accuracy: 0.7776 - lr: 0.0010\n",
      "Epoch 81/150\n",
      "70/70 [==============================] - 15s 210ms/step - loss: 0.4460 - categorical_accuracy: 0.8205 - val_loss: 1.9757 - val_categorical_accuracy: 0.7120 - lr: 0.0010\n",
      "Epoch 82/150\n",
      "70/70 [==============================] - 15s 221ms/step - loss: 0.4844 - categorical_accuracy: 0.8123 - val_loss: 0.6149 - val_categorical_accuracy: 0.7745 - lr: 0.0010\n",
      "Epoch 83/150\n",
      "70/70 [==============================] - ETA: 0s - loss: 0.4471 - categorical_accuracy: 0.8214"
     ]
    },
    {
     "name": "stderr",
     "output_type": "stream",
     "text": [
      "WARNING:absl:Found untraced functions such as _jit_compiled_convolution_op, _jit_compiled_convolution_op, _jit_compiled_convolution_op, _jit_compiled_convolution_op while saving (showing 4 of 4). These functions will not be directly callable after loading.\n"
     ]
    },
    {
     "name": "stdout",
     "output_type": "stream",
     "text": [
      "INFO:tensorflow:Assets written to: models_new/assets\n"
     ]
    },
    {
     "name": "stderr",
     "output_type": "stream",
     "text": [
      "INFO:tensorflow:Assets written to: models_new/assets\n"
     ]
    },
    {
     "name": "stdout",
     "output_type": "stream",
     "text": [
      "70/70 [==============================] - 15s 220ms/step - loss: 0.4471 - categorical_accuracy: 0.8214 - val_loss: 0.6514 - val_categorical_accuracy: 0.7787 - lr: 0.0010\n",
      "Epoch 84/150\n",
      "70/70 [==============================] - 14s 205ms/step - loss: 0.4414 - categorical_accuracy: 0.8216 - val_loss: 0.6714 - val_categorical_accuracy: 0.7737 - lr: 0.0010\n",
      "Epoch 85/150\n",
      "70/70 [==============================] - 14s 199ms/step - loss: 0.4416 - categorical_accuracy: 0.8227 - val_loss: 0.5925 - val_categorical_accuracy: 0.7678 - lr: 0.0010\n",
      "Epoch 86/150\n",
      "70/70 [==============================] - 14s 198ms/step - loss: 0.4428 - categorical_accuracy: 0.8206 - val_loss: 0.6275 - val_categorical_accuracy: 0.7650 - lr: 0.0010\n",
      "Epoch 87/150\n",
      "70/70 [==============================] - ETA: 0s - loss: 0.4308 - categorical_accuracy: 0.8264"
     ]
    },
    {
     "name": "stderr",
     "output_type": "stream",
     "text": [
      "WARNING:absl:Found untraced functions such as _jit_compiled_convolution_op, _jit_compiled_convolution_op, _jit_compiled_convolution_op, _jit_compiled_convolution_op while saving (showing 4 of 4). These functions will not be directly callable after loading.\n"
     ]
    },
    {
     "name": "stdout",
     "output_type": "stream",
     "text": [
      "INFO:tensorflow:Assets written to: models_new/assets\n"
     ]
    },
    {
     "name": "stderr",
     "output_type": "stream",
     "text": [
      "INFO:tensorflow:Assets written to: models_new/assets\n"
     ]
    },
    {
     "name": "stdout",
     "output_type": "stream",
     "text": [
      "70/70 [==============================] - 14s 205ms/step - loss: 0.4308 - categorical_accuracy: 0.8264 - val_loss: 0.5784 - val_categorical_accuracy: 0.7810 - lr: 0.0010\n",
      "Epoch 88/150\n",
      "70/70 [==============================] - 14s 200ms/step - loss: 0.4284 - categorical_accuracy: 0.8268 - val_loss: 0.6459 - val_categorical_accuracy: 0.7566 - lr: 0.0010\n",
      "Epoch 89/150\n",
      "70/70 [==============================] - 14s 203ms/step - loss: 0.7137 - categorical_accuracy: 0.8141 - val_loss: 0.6036 - val_categorical_accuracy: 0.7737 - lr: 0.0010\n",
      "Epoch 90/150\n",
      "70/70 [==============================] - 13s 192ms/step - loss: 0.4189 - categorical_accuracy: 0.8289 - val_loss: 2.4625 - val_categorical_accuracy: 0.7221 - lr: 0.0010\n",
      "Epoch 91/150\n",
      "70/70 [==============================] - 15s 207ms/step - loss: 0.4904 - categorical_accuracy: 0.8261 - val_loss: 0.6286 - val_categorical_accuracy: 0.7681 - lr: 0.0010\n",
      "Epoch 92/150\n",
      "70/70 [==============================] - 14s 199ms/step - loss: 0.4148 - categorical_accuracy: 0.8338 - val_loss: 0.6214 - val_categorical_accuracy: 0.7726 - lr: 0.0010\n",
      "Epoch 93/150\n",
      "70/70 [==============================] - 14s 198ms/step - loss: 0.4133 - categorical_accuracy: 0.8306 - val_loss: 0.5856 - val_categorical_accuracy: 0.7768 - lr: 0.0010\n",
      "Epoch 94/150\n",
      "70/70 [==============================] - 14s 198ms/step - loss: 0.4566 - categorical_accuracy: 0.8280 - val_loss: 0.8125 - val_categorical_accuracy: 0.7210 - lr: 0.0010\n",
      "Epoch 95/150\n",
      "70/70 [==============================] - 15s 209ms/step - loss: 0.4463 - categorical_accuracy: 0.8257 - val_loss: 0.6714 - val_categorical_accuracy: 0.7779 - lr: 0.0010\n",
      "Epoch 96/150\n",
      "70/70 [==============================] - 15s 213ms/step - loss: 0.4387 - categorical_accuracy: 0.8280 - val_loss: 0.6690 - val_categorical_accuracy: 0.7723 - lr: 0.0010\n",
      "Epoch 97/150\n",
      "70/70 [==============================] - 15s 211ms/step - loss: 0.4316 - categorical_accuracy: 0.8342 - val_loss: 0.6389 - val_categorical_accuracy: 0.7608 - lr: 0.0010\n",
      "Epoch 98/150\n",
      "70/70 [==============================] - 14s 199ms/step - loss: 0.4099 - categorical_accuracy: 0.8358 - val_loss: 0.6086 - val_categorical_accuracy: 0.7751 - lr: 0.0010\n",
      "Epoch 99/150\n",
      "70/70 [==============================] - 15s 209ms/step - loss: 0.4218 - categorical_accuracy: 0.8333 - val_loss: 0.6270 - val_categorical_accuracy: 0.7616 - lr: 0.0010\n",
      "Epoch 100/150\n",
      "70/70 [==============================] - 15s 208ms/step - loss: 0.4084 - categorical_accuracy: 0.8386 - val_loss: 0.5882 - val_categorical_accuracy: 0.7779 - lr: 0.0010\n",
      "Epoch 101/150\n",
      "70/70 [==============================] - 15s 214ms/step - loss: 0.4097 - categorical_accuracy: 0.8357 - val_loss: 0.5874 - val_categorical_accuracy: 0.7782 - lr: 0.0010\n",
      "Epoch 102/150\n",
      "70/70 [==============================] - 15s 210ms/step - loss: 0.4458 - categorical_accuracy: 0.8346 - val_loss: 0.6495 - val_categorical_accuracy: 0.7614 - lr: 0.0010\n",
      "Epoch 103/150\n",
      "70/70 [==============================] - 15s 213ms/step - loss: 0.3941 - categorical_accuracy: 0.8427 - val_loss: 0.6824 - val_categorical_accuracy: 0.7664 - lr: 0.0010\n",
      "Epoch 104/150\n",
      "70/70 [==============================] - 15s 207ms/step - loss: 0.4273 - categorical_accuracy: 0.8386 - val_loss: 0.6266 - val_categorical_accuracy: 0.7681 - lr: 0.0010\n",
      "Epoch 105/150\n",
      "70/70 [==============================] - 15s 215ms/step - loss: 0.4054 - categorical_accuracy: 0.8375 - val_loss: 0.6453 - val_categorical_accuracy: 0.7701 - lr: 0.0010\n",
      "Epoch 106/150\n",
      "70/70 [==============================] - 15s 216ms/step - loss: 0.4099 - categorical_accuracy: 0.8450 - val_loss: 0.6841 - val_categorical_accuracy: 0.7771 - lr: 0.0010\n",
      "Epoch 107/150\n",
      "70/70 [==============================] - 15s 211ms/step - loss: 0.4032 - categorical_accuracy: 0.8434 - val_loss: 0.6331 - val_categorical_accuracy: 0.7776 - lr: 0.0010\n",
      "Epoch 108/150\n",
      "70/70 [==============================] - 14s 205ms/step - loss: 0.3904 - categorical_accuracy: 0.8434 - val_loss: 0.8285 - val_categorical_accuracy: 0.7367 - lr: 0.0010\n",
      "Epoch 109/150\n",
      "70/70 [==============================] - 15s 208ms/step - loss: 0.3937 - categorical_accuracy: 0.8445 - val_loss: 0.6312 - val_categorical_accuracy: 0.7633 - lr: 0.0010\n",
      "Epoch 110/150\n",
      "70/70 [==============================] - 15s 207ms/step - loss: 0.3744 - categorical_accuracy: 0.8477 - val_loss: 0.6599 - val_categorical_accuracy: 0.7672 - lr: 0.0010\n",
      "Epoch 111/150\n",
      "70/70 [==============================] - 15s 212ms/step - loss: 0.3855 - categorical_accuracy: 0.8480 - val_loss: 0.7392 - val_categorical_accuracy: 0.7734 - lr: 0.0010\n",
      "Epoch 112/150\n",
      "70/70 [==============================] - 15s 207ms/step - loss: 0.4096 - categorical_accuracy: 0.8427 - val_loss: 0.6135 - val_categorical_accuracy: 0.7751 - lr: 0.0010\n",
      "Epoch 113/150\n",
      "70/70 [==============================] - 15s 214ms/step - loss: 0.3828 - categorical_accuracy: 0.8483 - val_loss: 0.6479 - val_categorical_accuracy: 0.7639 - lr: 0.0010\n",
      "Epoch 114/150\n",
      "70/70 [==============================] - 16s 222ms/step - loss: 0.4143 - categorical_accuracy: 0.8440 - val_loss: 0.6541 - val_categorical_accuracy: 0.7555 - lr: 0.0010\n",
      "Epoch 115/150\n",
      "70/70 [==============================] - 15s 215ms/step - loss: 0.3988 - categorical_accuracy: 0.8417 - val_loss: 0.8908 - val_categorical_accuracy: 0.7776 - lr: 0.0010\n",
      "Epoch 116/150\n",
      "70/70 [==============================] - 15s 214ms/step - loss: 0.3878 - categorical_accuracy: 0.8474 - val_loss: 0.7424 - val_categorical_accuracy: 0.7473 - lr: 0.0010\n",
      "Epoch 117/150\n",
      "70/70 [==============================] - 15s 210ms/step - loss: 0.3824 - categorical_accuracy: 0.8515 - val_loss: 0.6457 - val_categorical_accuracy: 0.7759 - lr: 0.0010\n",
      "Epoch 118/150\n",
      "70/70 [==============================] - 15s 217ms/step - loss: 0.3874 - categorical_accuracy: 0.8481 - val_loss: 0.7506 - val_categorical_accuracy: 0.7762 - lr: 0.0010\n",
      "Epoch 119/150\n",
      "70/70 [==============================] - 15s 210ms/step - loss: 0.4215 - categorical_accuracy: 0.8477 - val_loss: 0.6263 - val_categorical_accuracy: 0.7720 - lr: 0.0010\n",
      "Epoch 120/150\n",
      "70/70 [==============================] - ETA: 0s - loss: 0.3930 - categorical_accuracy: 0.8469"
     ]
    },
    {
     "name": "stderr",
     "output_type": "stream",
     "text": [
      "WARNING:absl:Found untraced functions such as _jit_compiled_convolution_op, _jit_compiled_convolution_op, _jit_compiled_convolution_op, _jit_compiled_convolution_op while saving (showing 4 of 4). These functions will not be directly callable after loading.\n"
     ]
    },
    {
     "name": "stdout",
     "output_type": "stream",
     "text": [
      "INFO:tensorflow:Assets written to: models_new/assets\n"
     ]
    },
    {
     "name": "stderr",
     "output_type": "stream",
     "text": [
      "INFO:tensorflow:Assets written to: models_new/assets\n"
     ]
    },
    {
     "name": "stdout",
     "output_type": "stream",
     "text": [
      "70/70 [==============================] - 16s 222ms/step - loss: 0.3930 - categorical_accuracy: 0.8469 - val_loss: 0.7027 - val_categorical_accuracy: 0.7818 - lr: 0.0010\n",
      "Epoch 121/150\n",
      "70/70 [==============================] - 15s 218ms/step - loss: 0.3682 - categorical_accuracy: 0.8544 - val_loss: 0.6221 - val_categorical_accuracy: 0.7776 - lr: 0.0010\n",
      "Epoch 122/150\n",
      "70/70 [==============================] - ETA: 0s - loss: 0.4672 - categorical_accuracy: 0.8430"
     ]
    },
    {
     "name": "stderr",
     "output_type": "stream",
     "text": [
      "WARNING:absl:Found untraced functions such as _jit_compiled_convolution_op, _jit_compiled_convolution_op, _jit_compiled_convolution_op, _jit_compiled_convolution_op while saving (showing 4 of 4). These functions will not be directly callable after loading.\n"
     ]
    },
    {
     "name": "stdout",
     "output_type": "stream",
     "text": [
      "INFO:tensorflow:Assets written to: models_new/assets\n"
     ]
    },
    {
     "name": "stderr",
     "output_type": "stream",
     "text": [
      "INFO:tensorflow:Assets written to: models_new/assets\n"
     ]
    },
    {
     "name": "stdout",
     "output_type": "stream",
     "text": [
      "70/70 [==============================] - 16s 223ms/step - loss: 0.4672 - categorical_accuracy: 0.8430 - val_loss: 0.6138 - val_categorical_accuracy: 0.7855 - lr: 0.0010\n",
      "Epoch 123/150\n",
      "70/70 [==============================] - 15s 217ms/step - loss: 0.3820 - categorical_accuracy: 0.8547 - val_loss: 0.8717 - val_categorical_accuracy: 0.7667 - lr: 0.0010\n",
      "Epoch 124/150\n",
      "70/70 [==============================] - 15s 215ms/step - loss: 0.3824 - categorical_accuracy: 0.8545 - val_loss: 0.6572 - val_categorical_accuracy: 0.7717 - lr: 0.0010\n",
      "Epoch 125/150\n",
      "70/70 [==============================] - 15s 211ms/step - loss: 0.3790 - categorical_accuracy: 0.8518 - val_loss: 0.6873 - val_categorical_accuracy: 0.7731 - lr: 0.0010\n",
      "Epoch 126/150\n",
      "70/70 [==============================] - 15s 211ms/step - loss: 2.3268 - categorical_accuracy: 0.8261 - val_loss: 0.6192 - val_categorical_accuracy: 0.7692 - lr: 0.0010\n",
      "Epoch 127/150\n",
      "70/70 [==============================] - 15s 208ms/step - loss: 0.3703 - categorical_accuracy: 0.8570 - val_loss: 0.6889 - val_categorical_accuracy: 0.7400 - lr: 0.0010\n",
      "Epoch 128/150\n",
      "70/70 [==============================] - 14s 203ms/step - loss: 0.3695 - categorical_accuracy: 0.8559 - val_loss: 0.6165 - val_categorical_accuracy: 0.7686 - lr: 0.0010\n",
      "Epoch 129/150\n",
      "70/70 [==============================] - 15s 217ms/step - loss: 0.3840 - categorical_accuracy: 0.8548 - val_loss: 0.7925 - val_categorical_accuracy: 0.7734 - lr: 0.0010\n",
      "Epoch 130/150\n",
      "70/70 [==============================] - ETA: 0s - loss: 0.3788 - categorical_accuracy: 0.8525"
     ]
    },
    {
     "name": "stderr",
     "output_type": "stream",
     "text": [
      "WARNING:absl:Found untraced functions such as _jit_compiled_convolution_op, _jit_compiled_convolution_op, _jit_compiled_convolution_op, _jit_compiled_convolution_op while saving (showing 4 of 4). These functions will not be directly callable after loading.\n"
     ]
    },
    {
     "name": "stdout",
     "output_type": "stream",
     "text": [
      "INFO:tensorflow:Assets written to: models_new/assets\n"
     ]
    },
    {
     "name": "stderr",
     "output_type": "stream",
     "text": [
      "INFO:tensorflow:Assets written to: models_new/assets\n"
     ]
    },
    {
     "name": "stdout",
     "output_type": "stream",
     "text": [
      "70/70 [==============================] - 16s 231ms/step - loss: 0.3788 - categorical_accuracy: 0.8525 - val_loss: 0.6634 - val_categorical_accuracy: 0.7888 - lr: 0.0010\n",
      "Epoch 131/150\n",
      "70/70 [==============================] - 15s 219ms/step - loss: 1.6196 - categorical_accuracy: 0.8407 - val_loss: 0.6724 - val_categorical_accuracy: 0.7546 - lr: 0.0010\n",
      "Epoch 132/150\n",
      "70/70 [==============================] - 15s 214ms/step - loss: 0.3905 - categorical_accuracy: 0.8419 - val_loss: 0.6146 - val_categorical_accuracy: 0.7670 - lr: 0.0010\n",
      "Epoch 133/150\n",
      "70/70 [==============================] - 15s 209ms/step - loss: 0.4377 - categorical_accuracy: 0.8520 - val_loss: 0.7191 - val_categorical_accuracy: 0.7754 - lr: 0.0010\n",
      "Epoch 134/150\n",
      "70/70 [==============================] - 15s 216ms/step - loss: 0.3620 - categorical_accuracy: 0.8578 - val_loss: 0.7075 - val_categorical_accuracy: 0.7650 - lr: 0.0010\n",
      "Epoch 135/150\n",
      "70/70 [==============================] - 15s 210ms/step - loss: 0.3823 - categorical_accuracy: 0.8564 - val_loss: 0.6847 - val_categorical_accuracy: 0.7768 - lr: 0.0010\n",
      "Epoch 136/150\n",
      "70/70 [==============================] - 15s 213ms/step - loss: 0.3576 - categorical_accuracy: 0.8643 - val_loss: 0.7049 - val_categorical_accuracy: 0.7757 - lr: 0.0010\n",
      "Epoch 137/150\n",
      "70/70 [==============================] - 15s 208ms/step - loss: 0.3666 - categorical_accuracy: 0.8605 - val_loss: 0.6612 - val_categorical_accuracy: 0.7813 - lr: 0.0010\n",
      "Epoch 138/150\n",
      "70/70 [==============================] - 15s 208ms/step - loss: 0.3674 - categorical_accuracy: 0.8610 - val_loss: 0.9998 - val_categorical_accuracy: 0.7543 - lr: 0.0010\n",
      "Epoch 139/150\n",
      "70/70 [==============================] - 15s 211ms/step - loss: 0.3595 - categorical_accuracy: 0.8616 - val_loss: 0.8878 - val_categorical_accuracy: 0.7485 - lr: 0.0010\n",
      "Epoch 140/150\n",
      "70/70 [==============================] - 15s 220ms/step - loss: 0.3881 - categorical_accuracy: 0.8535 - val_loss: 0.8189 - val_categorical_accuracy: 0.7771 - lr: 0.0010\n",
      "Epoch 141/150\n",
      "70/70 [==============================] - 15s 211ms/step - loss: 0.4191 - categorical_accuracy: 0.8596 - val_loss: 0.6912 - val_categorical_accuracy: 0.7210 - lr: 0.0010\n",
      "Epoch 142/150\n",
      "70/70 [==============================] - 15s 213ms/step - loss: 0.3668 - categorical_accuracy: 0.8588 - val_loss: 0.6738 - val_categorical_accuracy: 0.7678 - lr: 0.0010\n",
      "Epoch 143/150\n",
      "70/70 [==============================] - 15s 214ms/step - loss: 0.3875 - categorical_accuracy: 0.8572 - val_loss: 0.7307 - val_categorical_accuracy: 0.7776 - lr: 0.0010\n",
      "Epoch 144/150\n",
      "70/70 [==============================] - 15s 213ms/step - loss: 0.3872 - categorical_accuracy: 0.8597 - val_loss: 0.6980 - val_categorical_accuracy: 0.7625 - lr: 0.0010\n",
      "Epoch 145/150\n",
      "70/70 [==============================] - 15s 210ms/step - loss: 1.9567 - categorical_accuracy: 0.8442 - val_loss: 0.6963 - val_categorical_accuracy: 0.7729 - lr: 0.0010\n",
      "Epoch 146/150\n",
      "70/70 [==============================] - 15s 215ms/step - loss: 0.3499 - categorical_accuracy: 0.8631 - val_loss: 0.8456 - val_categorical_accuracy: 0.7692 - lr: 0.0010\n",
      "Epoch 147/150\n",
      "70/70 [==============================] - 15s 210ms/step - loss: 0.3760 - categorical_accuracy: 0.8602 - val_loss: 0.7652 - val_categorical_accuracy: 0.7499 - lr: 0.0010\n",
      "Epoch 148/150\n",
      "70/70 [==============================] - 15s 220ms/step - loss: 0.3853 - categorical_accuracy: 0.8604 - val_loss: 0.8245 - val_categorical_accuracy: 0.7832 - lr: 0.0010\n",
      "Epoch 149/150\n",
      "70/70 [==============================] - 15s 213ms/step - loss: 0.3475 - categorical_accuracy: 0.8663 - val_loss: 0.6985 - val_categorical_accuracy: 0.7658 - lr: 0.0010\n",
      "Epoch 150/150\n",
      "70/70 [==============================] - 15s 209ms/step - loss: 0.3681 - categorical_accuracy: 0.8614 - val_loss: 0.7393 - val_categorical_accuracy: 0.7709 - lr: 0.0010\n"
     ]
    }
   ],
   "source": [
    "batch_size = 256\n",
    "\n",
    "checkpoint_path = 'models_new'\n",
    "\n",
    "\n",
    "mcp_save = callbacks.ModelCheckpoint(checkpoint_path, save_best_only=True,\n",
    "                           monitor='val_categorical_accuracy',\n",
    "                           mode='max')\n",
    "\n",
    "rlrop = callbacks.ReduceLROnPlateau(monitor='val_categorical_accuracy', \n",
    "                                    factor=0.1, patience=100)\n",
    "                             \n",
    " \n",
    "Model.compile(loss='categorical_crossentropy', \n",
    "                optimizer='RMSProp', \n",
    "                metrics=['categorical_accuracy'])\n",
    "\n",
    "history = Model.fit(X_train, y_train, \n",
    "                      epochs=150, batch_size = batch_size, \n",
    "                      validation_data = (X_val, y_val), \n",
    "                      callbacks = [mcp_save, rlrop])"
   ]
  },
  {
   "cell_type": "code",
   "execution_count": 21,
   "metadata": {},
   "outputs": [
    {
     "data": {
      "text/plain": [
       "<Figure size 640x480 with 0 Axes>"
      ]
     },
     "metadata": {},
     "output_type": "display_data"
    }
   ],
   "source": [
    "tf.keras.utils.plot_model(Model, show_shapes=True, show_layer_names=True)\n",
    "plt.savefig(\"plots/seq_full.png\")"
   ]
  },
  {
   "cell_type": "code",
   "execution_count": 22,
   "metadata": {},
   "outputs": [
    {
     "name": "stdout",
     "output_type": "stream",
     "text": [
      "112/112 - 2s - loss: 0.7393 - categorical_accuracy: 0.7709 - 2s/epoch - 19ms/step\n",
      "0.7392736673355103 0.7708917260169983\n"
     ]
    },
    {
     "data": {
      "image/png": "[encoded data removed]",
      "text/plain": [
       "<Figure size 640x480 with 1 Axes>"
      ]
     },
     "metadata": {},
     "output_type": "display_data"
    },
    {
     "data": {
      "image/png": "[encoded data removed]",
      "text/plain": [
       "<Figure size 640x480 with 1 Axes>"
      ]
     },
     "metadata": {},
     "output_type": "display_data"
    },
    {
     "data": {
      "text/plain": [
       "<Figure size 640x480 with 0 Axes>"
      ]
     },
     "metadata": {},
     "output_type": "display_data"
    }
   ],
   "source": [
    "loss,acc = Model.evaluate(X_val, y_val, verbose=2)\n",
    "\n",
    "print(loss, acc)\n",
    "\n",
    "plt.plot(history.history[\"loss\"], label=\"Loss (training data)\")\n",
    "plt.plot(history.history[\"val_loss\"], label=\"Loss (validation data)\")\n",
    "plt.title(\"Loss for train and validation\")\n",
    "plt.ylabel(\"Loss value\")\n",
    "plt.xlabel(\"No. epoch\")\n",
    "plt.legend(loc=\"upper left\")\n",
    "plt.show()\n",
    "plt.savefig(\"plots/Loss_big.png\")\n",
    "\n",
    "#Plot history: Accuracy\n",
    "plt.plot(history.history[\"categorical_accuracy\"], label=\"Acc (training data)\")\n",
    "plt.plot(history.history[\"val_categorical_accuracy\"], label=\"Acc (validation data)\")\n",
    "plt.title(\"Model accuracy\")\n",
    "plt.ylabel(\"Acc %\")\n",
    "plt.xlabel(\"No. epoch\")\n",
    "plt.legend(loc=\"upper left\")\n",
    "plt.show()\n",
    "plt.savefig(\"plots/Accuracy_big.png\")"
   ]
  },
  {
   "cell_type": "code",
   "execution_count": 23,
   "metadata": {},
   "outputs": [
    {
     "name": "stdout",
     "output_type": "stream",
     "text": [
      "112/112 [==============================] - 2s 19ms/step\n"
     ]
    },
    {
     "data": {
      "image/png": "[encoded data removed]",
      "text/plain": [
       "<Figure size 1200x800 with 2 Axes>"
      ]
     },
     "metadata": {},
     "output_type": "display_data"
    }
   ],
   "source": [
    "y_val_class = np.argmax(y_val, axis=1)\n",
    "predictions = Model.predict(X_val)\n",
    "y_pred_class = np.argmax(predictions, axis=1)\n",
    "\n",
    "cm=confusion_matrix(y_val_class, y_pred_class)\n",
    "\n",
    "\n",
    "#enc_labes = {\"angry\": 0, \"happy\": 1, \"neural\": 2, \"sad\":3}\n",
    "index = [\"disgust\", \"fear\", \"angry\",\"sad\",\"neutral\",\"happy\"]  \n",
    "columns = [\"disgust\", \"fear\", \"angry\",\"sad\",\"neutral\",\"happy\"]  \n",
    " \n",
    "cm_df = pd.DataFrame(cm,index,columns)                      \n",
    "plt.figure(figsize=(12,8))\n",
    "ax = plt.axes()\n",
    "\n",
    "sns.heatmap(cm_df, ax = ax,  annot=True, cmap = \"PuBu\", fmt=\"d\" ) #cbar_kws={'format': '%.0f%%'},\n",
    "ax.set_ylabel(\"True emotion\")\n",
    "ax.set_xlabel(\"Predicted emotion\")\n",
    "cbar = ax.collections[0].colorbar\n",
    "cbar.set_ticks([0, .2, .75, 1])\n",
    "# cbar.set_ticklabels(['low', '20%', '75%', '100%'])\n",
    "plt.savefig(\"plots/Confmatrix.png\")\n"
   ]
  },
  {
   "cell_type": "code",
   "execution_count": 24,
   "metadata": {},
   "outputs": [
    {
     "name": "stdout",
     "output_type": "stream",
     "text": [
      "Validation set predicted emotions accuracy:\n",
      "disgust : 0.7806\n",
      "fear : 0.6400\n",
      "angry : 0.6648\n",
      "sad : 1.0000\n",
      "neutral : 0.8594\n",
      "happy : 0.8725\n"
     ]
    }
   ],
   "source": [
    "values = cm.diagonal()\n",
    "row_sum = np.sum(cm,axis=1)\n",
    "acc = values / row_sum\n",
    "\n",
    "print(\"Validation set predicted emotions accuracy:\")\n",
    "for e in range(0, len(values)):\n",
    "    print(index[e],':', f\"{(acc[e]):0.4f}\")"
   ]
  },
  {
   "cell_type": "code",
   "execution_count": 16,
   "metadata": {},
   "outputs": [],
   "source": [
    "def save_model(model):\n",
    "    model_json = model.to_json()\n",
    "    with open(\"models/model_seq_big.json\", \"w\") as json_file:\n",
    "        json_file.write(model_json)\n",
    "    model.save_weights(\"models/model_seq_big.h5\")\n",
    "\n",
    "    json_file= open(\"models/model_seq_big.json\", \"r\")\n",
    "    loaded_model_json = json_file.read()\n",
    "    json_file.close()\n",
    "\n",
    "    loaded_model = model_from_json(loaded_model_json)\n",
    "    loaded_model.load_weights(\"models/model_seq_big.h5\")\n",
    "\n",
    "    return loaded_model\n"
   ]
  },
  {
   "cell_type": "code",
   "execution_count": 25,
   "metadata": {},
   "outputs": [],
   "source": [
    "model_json = Model.to_json()\n",
    "with open(\"models/model_seq_big_2.json\", \"w\") as json_file:\n",
    "    json_file.write(model_json)\n",
    "Model.save_weights(\"models/model_seq_big_2.h5\")"
   ]
  },
  {
   "cell_type": "code",
   "execution_count": 26,
   "metadata": {},
   "outputs": [
    {
     "name": "stdout",
     "output_type": "stream",
     "text": [
      "28/28 [==============================] - 1s 19ms/step\n"
     ]
    }
   ],
   "source": [
    "pred = Model.predict(X_test)\n",
    "y_pred_class = np.argmax(predictions, axis=1)"
   ]
  },
  {
   "cell_type": "code",
   "execution_count": 27,
   "metadata": {},
   "outputs": [
    {
     "name": "stdout",
     "output_type": "stream",
     "text": [
      "28/28 [==============================] - 1s 18ms/step\n"
     ]
    }
   ],
   "source": [
    "prediction_test = Model.predict(X_test)\n",
    "y_pred = encoder.inverse_transform(prediction_test)\n",
    "\n",
    "y_test = encoder.inverse_transform(y_test)\n",
    "y_new = encoder.fit_transform(y_test)\n",
    "y_new\n",
    "df_ = pd.DataFrame( y_pred, y_test)\n"
   ]
  },
  {
   "cell_type": "code",
   "execution_count": 31,
   "metadata": {},
   "outputs": [
    {
     "data": {
      "text/html": [
       "<div>\n",
       "<style scoped>\n",
       "    .dataframe tbody tr th:only-of-type {\n",
       "        vertical-align: middle;\n",
       "    }\n",
       "\n",
       "    .dataframe tbody tr th {\n",
       "        vertical-align: top;\n",
       "    }\n",
       "\n",
       "    .dataframe thead th {\n",
       "        text-align: right;\n",
       "    }\n",
       "</style>\n",
       "<table border=\"1\" class=\"dataframe\">\n",
       "  <thead>\n",
       "    <tr style=\"text-align: right;\">\n",
       "      <th></th>\n",
       "      <th>0</th>\n",
       "    </tr>\n",
       "  </thead>\n",
       "  <tbody>\n",
       "    <tr>\n",
       "      <th>(happy,)</th>\n",
       "      <td>happy</td>\n",
       "    </tr>\n",
       "    <tr>\n",
       "      <th>(happy,)</th>\n",
       "      <td>happy</td>\n",
       "    </tr>\n",
       "    <tr>\n",
       "      <th>(sad,)</th>\n",
       "      <td>sad</td>\n",
       "    </tr>\n",
       "    <tr>\n",
       "      <th>(happy,)</th>\n",
       "      <td>happy</td>\n",
       "    </tr>\n",
       "    <tr>\n",
       "      <th>(sad,)</th>\n",
       "      <td>happy</td>\n",
       "    </tr>\n",
       "    <tr>\n",
       "      <th>(happy,)</th>\n",
       "      <td>angry</td>\n",
       "    </tr>\n",
       "    <tr>\n",
       "      <th>(disgust,)</th>\n",
       "      <td>disgust</td>\n",
       "    </tr>\n",
       "    <tr>\n",
       "      <th>(happy,)</th>\n",
       "      <td>happy</td>\n",
       "    </tr>\n",
       "    <tr>\n",
       "      <th>(sad,)</th>\n",
       "      <td>sad</td>\n",
       "    </tr>\n",
       "    <tr>\n",
       "      <th>(disgust,)</th>\n",
       "      <td>disgust</td>\n",
       "    </tr>\n",
       "    <tr>\n",
       "      <th>(sad,)</th>\n",
       "      <td>sad</td>\n",
       "    </tr>\n",
       "    <tr>\n",
       "      <th>(angry,)</th>\n",
       "      <td>angry</td>\n",
       "    </tr>\n",
       "    <tr>\n",
       "      <th>(disgust,)</th>\n",
       "      <td>sad</td>\n",
       "    </tr>\n",
       "    <tr>\n",
       "      <th>(surprised,)</th>\n",
       "      <td>happy</td>\n",
       "    </tr>\n",
       "    <tr>\n",
       "      <th>(sad,)</th>\n",
       "      <td>sad</td>\n",
       "    </tr>\n",
       "    <tr>\n",
       "      <th>(angry,)</th>\n",
       "      <td>angry</td>\n",
       "    </tr>\n",
       "    <tr>\n",
       "      <th>(sad,)</th>\n",
       "      <td>sad</td>\n",
       "    </tr>\n",
       "    <tr>\n",
       "      <th>(happy,)</th>\n",
       "      <td>happy</td>\n",
       "    </tr>\n",
       "    <tr>\n",
       "      <th>(angry,)</th>\n",
       "      <td>happy</td>\n",
       "    </tr>\n",
       "    <tr>\n",
       "      <th>(sad,)</th>\n",
       "      <td>sad</td>\n",
       "    </tr>\n",
       "  </tbody>\n",
       "</table>\n",
       "</div>"
      ],
      "text/plain": [
       "                    0\n",
       "(happy,)        happy\n",
       "(happy,)        happy\n",
       "(sad,)            sad\n",
       "(happy,)        happy\n",
       "(sad,)          happy\n",
       "(happy,)        angry\n",
       "(disgust,)    disgust\n",
       "(happy,)        happy\n",
       "(sad,)            sad\n",
       "(disgust,)    disgust\n",
       "(sad,)            sad\n",
       "(angry,)        angry\n",
       "(disgust,)        sad\n",
       "(surprised,)    happy\n",
       "(sad,)            sad\n",
       "(angry,)        angry\n",
       "(sad,)            sad\n",
       "(happy,)        happy\n",
       "(angry,)        happy\n",
       "(sad,)            sad"
      ]
     },
     "execution_count": 31,
     "metadata": {},
     "output_type": "execute_result"
    }
   ],
   "source": [
    "df_.sample(20)"
   ]
  }
 ],
 "metadata": {
  "kernelspec": {
   "display_name": "Python 3.10.4 ('speech')",
   "language": "python",
   "name": "python3"
  },
  "language_info": {
   "codemirror_mode": {
    "name": "ipython",
    "version": 3
   },
   "file_extension": ".py",
   "mimetype": "text/x-python",
   "name": "python",
   "nbconvert_exporter": "python",
   "pygments_lexer": "ipython3",
   "version": "3.10.4"
  },
  "orig_nbformat": 4,
  "vscode": {
   "interpreter": {
    "hash": "d947153d5dc79b12842600cc5d27542f14ef1e9d94514668badf37c9b152b3dc"
   }
  }
 },
 "nbformat": 4,
 "nbformat_minor": 2
}
